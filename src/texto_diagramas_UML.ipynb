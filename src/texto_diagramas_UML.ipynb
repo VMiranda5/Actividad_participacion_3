{
 "cells": [
  {
   "cell_type": "markdown",
   "metadata": {},
   "source": [
    "# Actividad de participación 3: taller conceptos POO"
   ]
  },
  {
   "cell_type": "markdown",
   "metadata": {},
   "source": [
    "### 1. Cree una clase Vehículo que contenga los atributos de instancia velocidad_maxima y kilometraje.\n",
    "En este caso no hay diferentes clases por lo que no hay relaciones, tampoco se determinan métodos para la clase, solo se establecen los atributos de la clase\n",
    "\n",
    "![alternative text](./digramas_uml/vehiculo_uml.jpg)\n",
    "\n"
   ]
  },
  {
   "cell_type": "markdown",
   "metadata": {},
   "source": [
    "### 2. Cree una clase Punto que represente un punto en el plano cartesiano.\n",
    "Para este caso, aunque el ejercicio no lo indica, se determina que los atributos de esta clase deben ser 2, que corresponden a las 2 coordenadas que se necesitan para obtener un punto en el plano cartesiano (x,y)\n",
    "\n",
    "![alternative text](./digramas_uml/punto1_uml.jpg)\n",
    "\n",
    "\n",
    "### 3. A la clase del punto anterior, defínale los siguientes métodos:\n",
    "- Un método mostrar que imprima por consola las coordenadas del punto\n",
    "- Un método mover que cambie las coordenadas del punto\n",
    "- Un método calcular_distancia que calcule la distancia de la instancia actual con otro punto.\n",
    " \n",
    "En primer lugar, el método **mostrar** no recibe parámetros aparte de self, entonces no se agrega nada en el diagrama. Ahora, para el método **mover**, sí se necesitan los nuevos valores de $x$ y $y$. Finalmente, para el método **calcular_distancia** es necesario conocer el otro punto.\n",
    "\n",
    "![image.png](./digramas_uml/punto2_uml.jpg)"
   ]
  },
  {
   "cell_type": "markdown",
   "metadata": {},
   "source": [
    "### 4. Cree una clase Rectángulo la cual contiene dos atributos de instancia que representan los puntos que definen sus esquinas. Agregue métodos a la clase Rectángulo para calcular su perímetro, calcular su área e indicar si el rectángulo es un cuadrado.\n",
    "\n",
    "Para esta clase, se asume que los puntos a los que se refiere la descripción son aquellos que generan una diagonal, así:\n",
    "\n",
    "![image.png](./digramas_uml/diagonal_rectangulo.jpg)\n",
    "\n",
    "Por otro lado, puesto que ya se tiene una clase Punto, encontré la oportunidad de continuar usando esta clase haciendo que las esquinas del rectángulo también fueran objetos de la clase Punto. Luego para los métodos de la clase Rectángulo, ninguno de estos recibe otro parámetro diferente, pero el valor que retornan varía. Para el perímetro y área, los valores son números, mientras que para verificar si es un cuadrado, se retorna un booleano.\n",
    "\n",
    "![image.png](./digramas_uml/rectangulo_uml.jpg)"
   ]
  },
  {
   "cell_type": "markdown",
   "metadata": {},
   "source": [
    "### 5 Cree una clase Circulo que tenga las propiedades centro y radio, las cuales se inicializan con parámetros en el constructor. Defina métodos en la clase para calcular el área, el perímetro e indicar si un punto pertenece al círculo o no.\n",
    "\n",
    "Al igual que con la clase Rectángulo, es posible definir el atributo **centro** con un objeto de la clase Punto, relacionando así estas dos clases. En cuanto al cálculo del área y el perímetro, es similar al rectángulo pero haciendo uso de las ecuaciones para un círculo. Finalmente, en el método que determina si un punto dado pertenece al círculo o no también tiene como parámetro un objeto de la clase Punto, y, puesto que se trabaja con dos objetos de la clase punto, es posible usar la función propia de esta clase que calcula la distancia entre dos puntos para así comparar esta distancia con el valor del radio y determinar si pertenece o no al círculo\n",
    "\n",
    "\n",
    "![image.png](./digramas_uml/circulo_uml.jpg)"
   ]
  },
  {
   "cell_type": "markdown",
   "metadata": {},
   "source": [
    "### 6. Cree una clase Carta que contenga dos propiedades valor y pinta, las cuales son asignadas solo al momento de la construcción del objeto (se pasan como parámetros en el constructor). Defina 4 constantes que representan los nombres de las 4 pintas que puede tener una carta.\n",
    "\n",
    "Para esta clase no hay métodos, solo se hace la diferencia de las constantes siguiendo la convención del lenguaje (en mayúsculas)\n",
    "\n",
    "![image.png](./digramas_uml/carta_uml.jpg)"
   ]
  },
  {
   "cell_type": "markdown",
   "metadata": {},
   "source": [
    "### 7. Cree una clase CuentaBancaria que contenga los siguientes atributos: numero_cuenta, propietarios y balance. Los tres atributos se deben inicializar en el constructor con valores recibidos como parámetros.\n",
    "\n",
    "Aunque no se especifica en la descripción del ejercicio, se tomó en consideración que los atributos podrían llegar a ser privados puesto que es información sensible, por lo tanto se especifican como tal en el diagrama con un signo menos, a excepción del atributo **balance**, puesto que este tendrá diferentes métodos que modifican su valor por lo que es más viable mantener el atributo público\n",
    "\n",
    "![image.png](./digramas_uml/cuenta1_uml.jpg)\n",
    "\n",
    "\n",
    "### 8. Para la clase CuentaBancaria, cree un método depositar que maneje las acciones de depósito en la cuenta.\n",
    "### 9. Para la clase CuentaBancaria, cree un método retirar que maneje las acciones de retiro de la cuenta.\n",
    "### 10. Para la clase CuentaBancaria, cree un método aplicar_cuota_manejo que aplique un porcentaje del 2% sobre el balance de la cuenta\n",
    "### 11. Para la clase CuentaBancaria, cree un método mostrar_detalles que imprima por consola los detalles de la cuenta bancaria.\n",
    "\n",
    "Para estos métodos es necesario acceder a los atributos privados del objeto, por lo que será necesario agregar métodos extra que permitan el acceso a estos atributos y así realizar las tareas asignadas. Para los métodos donde se modifica el balance de la cuenta, decidí por no retornar ningún valor, esto porque dentro del método se actualiza el valor del atributo entonces si es necesario guardar su valor, se llama al atributo. \n",
    "\n",
    "![image.png](./digramas_uml/cuenta2_uml.jpg)"
   ]
  }
 ],
 "metadata": {
  "language_info": {
   "name": "python"
  },
  "orig_nbformat": 4
 },
 "nbformat": 4,
 "nbformat_minor": 2
}
